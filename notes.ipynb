{
 "cells": [
  {
   "cell_type": "code",
   "execution_count": 4,
   "id": "28108930",
   "metadata": {},
   "outputs": [
    {
     "name": "stdout",
     "output_type": "stream",
     "text": [
      "Simulated expected number of jumps after 100000 trials: 1.9947\n",
      "Theoretical expected number of jumps: 2\n"
     ]
    }
   ],
   "source": [
    "import random\n",
    "\n",
    "def simulate_jumps():\n",
    "    \"\"\"\n",
    "    Simulate one run of the jumping process until reaching point 2.\n",
    "    Returns the number of jumps taken.\n",
    "    \"\"\"\n",
    "    current = 1  # Start at point 1\n",
    "    jumps = 0\n",
    "    \n",
    "    while current != 2:\n",
    "        # Available points to jump to (excluding current point)\n",
    "        if current == 1:\n",
    "            next_point = random.choice([2, 3])\n",
    "        elif current == 2:\n",
    "            break  # Shouldn't happen in loop condition\n",
    "        else:  # current == 3\n",
    "            next_point = random.choice([1, 2])\n",
    "        \n",
    "        current = next_point\n",
    "        jumps += 1\n",
    "    \n",
    "    return jumps\n",
    "\n",
    "def run_simulation(num_trials=100000):\n",
    "    \"\"\"\n",
    "    Run multiple simulations and calculate the average number of jumps.\n",
    "    \"\"\"\n",
    "    total_jumps = 0\n",
    "    \n",
    "    for _ in range(num_trials):\n",
    "        total_jumps += simulate_jumps()\n",
    "    \n",
    "    average_jumps = total_jumps / num_trials\n",
    "    return average_jumps\n",
    "\n",
    "# Run simulation\n",
    "num_trials = 100000\n",
    "expected_jumps = run_simulation(num_trials)\n",
    "print(f\"Simulated expected number of jumps after {num_trials} trials: {expected_jumps:.4f}\")\n",
    "print(f\"Theoretical expected number of jumps: 2\")"
   ]
  }
 ],
 "metadata": {
  "kernelspec": {
   "display_name": "base",
   "language": "python",
   "name": "python3"
  },
  "language_info": {
   "codemirror_mode": {
    "name": "ipython",
    "version": 3
   },
   "file_extension": ".py",
   "mimetype": "text/x-python",
   "name": "python",
   "nbconvert_exporter": "python",
   "pygments_lexer": "ipython3",
   "version": "3.13.5"
  }
 },
 "nbformat": 4,
 "nbformat_minor": 5
}
